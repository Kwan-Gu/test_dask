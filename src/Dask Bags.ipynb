{
 "cells": [
  {
   "cell_type": "markdown",
   "id": "439ff0d3-2c34-4cb3-acce-c94be2072d9e",
   "metadata": {},
   "source": [
    "&emsp;이번 포스팅에서는 파이썬 **Dask Bag**를 활용한 간단한 예제를 다뤄보도록 하겠습니다."
   ]
  },
  {
   "cell_type": "markdown",
   "id": "f4337628-6071-4bdb-9d48-ced9f81212f4",
   "metadata": {},
   "source": [
    "# 목차"
   ]
  },
  {
   "cell_type": "markdown",
   "id": "b5a1a630-bb87-4930-86bc-44d0556563d2",
   "metadata": {},
   "source": [
    "* [Dask Bag](#Dask-Bag)\n",
    "* [Dask 클라이언트](#Dask-클라이언트)\n",
    "* [JSON 데이터 읽기](#JSON-데이터-읽기)\n",
    "* [Map, Filter, Aggregate](#Map,-Filter,-Aggregate)\n",
    "* [변환 및 저장](#변환-및-저장)"
   ]
  },
  {
   "cell_type": "markdown",
   "id": "5697ca4d-7336-4309-84b0-084b0620ec18",
   "metadata": {},
   "source": [
    "---"
   ]
  },
  {
   "cell_type": "markdown",
   "id": "4f2974cf-4ad7-4789-bd8a-805c98a39a05",
   "metadata": {},
   "source": [
    "# Dask Bag"
   ]
  },
  {
   "cell_type": "markdown",
   "id": "9edbd4fc-c5c5-4838-b398-a12e6f19c290",
   "metadata": {},
   "source": [
    "&emsp;Dask Bag은 `map`, `filter`, `groupby`, 그 외 집계 작업처럼 파이썬 컬렉션 객체에 대해 수행할 수 있는 여러 작업들을 구현해놓았습니다. 이 작업들을 수행하기 위해 Python 반복자(iterators)를 사용하여, 적은 메모리에서도 병렬 작업을 수행합니다. 이러한 점은 병렬 버전의 Itertools 또는 PySpark RDD와 유사합니다.  \n",
    "\n",
    "&emsp;특히 로그 파일, JSON records, 사용자 정의 Python 객체에 대해 간단한 전처리를 수행하는 데에 이 Dask Bag이 사용됩니다."
   ]
  },
  {
   "cell_type": "markdown",
   "id": "75c438bb-6598-4dee-88a9-eabfe7e62190",
   "metadata": {},
   "source": [
    "---"
   ]
  },
  {
   "cell_type": "markdown",
   "id": "53afe38d-01c6-4fe6-8919-3534dcac09d3",
   "metadata": {},
   "source": [
    "# Dask 클라이언트"
   ]
  },
  {
   "cell_type": "markdown",
   "id": "82c0d3ba-42a9-492e-8ba7-ab900ba7f36a",
   "metadata": {},
   "source": [
    "&emsp;Dask 클라이언트(client)는 필요에 따라 실행해도 되고, 실행하지 않아도 됩니다. Dask 클라이언트는 연산 작업 현황에 대한 정보를 얻는데 유용한 대시보드(dashboard)를 제공합니다.\n",
    "\n",
    "&emsp;아래 코드와 같이 클라이언트를 생성하면 대시보드에 대한 링크가 표시됩니다. 이 링크를 클릭해, 작업을 실행하는 동안 다른 화면 한쪽에 대시보드를 열어 두는 것이 좋습니다. 대시보드를 작업 화면과 동시에 보는 것은 분석 및 학습을 수행할 때 매우 유용합니다."
   ]
  },
  {
   "cell_type": "code",
   "execution_count": 1,
   "id": "f1b24038-f4ca-4934-9617-a6085a841816",
   "metadata": {},
   "outputs": [
    {
     "data": {
      "text/html": [
       "<div>\n",
       "    <div style=\"width: 24px; height: 24px; background-color: #e1e1e1; border: 3px solid #9D9D9D; border-radius: 5px; position: absolute;\"> </div>\n",
       "    <div style=\"margin-left: 48px;\">\n",
       "        <h3 style=\"margin-bottom: 0px;\">Client</h3>\n",
       "        <p style=\"color: #9D9D9D; margin-bottom: 0px;\">Client-a78e20d1-3fbe-11ee-b5e4-002b6765fa53</p>\n",
       "        <table style=\"width: 100%; text-align: left;\">\n",
       "\n",
       "        <tr>\n",
       "        \n",
       "            <td style=\"text-align: left;\"><strong>Connection method:</strong> Cluster object</td>\n",
       "            <td style=\"text-align: left;\"><strong>Cluster type:</strong> distributed.LocalCluster</td>\n",
       "        \n",
       "        </tr>\n",
       "\n",
       "        \n",
       "            <tr>\n",
       "                <td style=\"text-align: left;\">\n",
       "                    <strong>Dashboard: </strong> <a href=\"http://127.0.0.1:8787/status\" target=\"_blank\">http://127.0.0.1:8787/status</a>\n",
       "                </td>\n",
       "                <td style=\"text-align: left;\"></td>\n",
       "            </tr>\n",
       "        \n",
       "\n",
       "        </table>\n",
       "\n",
       "        \n",
       "\n",
       "        \n",
       "            <details>\n",
       "            <summary style=\"margin-bottom: 20px;\"><h3 style=\"display: inline;\">Cluster Info</h3></summary>\n",
       "            <div class=\"jp-RenderedHTMLCommon jp-RenderedHTML jp-mod-trusted jp-OutputArea-output\">\n",
       "    <div style=\"width: 24px; height: 24px; background-color: #e1e1e1; border: 3px solid #9D9D9D; border-radius: 5px; position: absolute;\">\n",
       "    </div>\n",
       "    <div style=\"margin-left: 48px;\">\n",
       "        <h3 style=\"margin-bottom: 0px; margin-top: 0px;\">LocalCluster</h3>\n",
       "        <p style=\"color: #9D9D9D; margin-bottom: 0px;\">c75b9c02</p>\n",
       "        <table style=\"width: 100%; text-align: left;\">\n",
       "            <tr>\n",
       "                <td style=\"text-align: left;\">\n",
       "                    <strong>Dashboard:</strong> <a href=\"http://127.0.0.1:8787/status\" target=\"_blank\">http://127.0.0.1:8787/status</a>\n",
       "                </td>\n",
       "                <td style=\"text-align: left;\">\n",
       "                    <strong>Workers:</strong> 4\n",
       "                </td>\n",
       "            </tr>\n",
       "            <tr>\n",
       "                <td style=\"text-align: left;\">\n",
       "                    <strong>Total threads:</strong> 4\n",
       "                </td>\n",
       "                <td style=\"text-align: left;\">\n",
       "                    <strong>Total memory:</strong> 15.87 GiB\n",
       "                </td>\n",
       "            </tr>\n",
       "            \n",
       "            <tr>\n",
       "    <td style=\"text-align: left;\"><strong>Status:</strong> running</td>\n",
       "    <td style=\"text-align: left;\"><strong>Using processes:</strong> True</td>\n",
       "</tr>\n",
       "\n",
       "            \n",
       "        </table>\n",
       "\n",
       "        <details>\n",
       "            <summary style=\"margin-bottom: 20px;\">\n",
       "                <h3 style=\"display: inline;\">Scheduler Info</h3>\n",
       "            </summary>\n",
       "\n",
       "            <div style=\"\">\n",
       "    <div>\n",
       "        <div style=\"width: 24px; height: 24px; background-color: #FFF7E5; border: 3px solid #FF6132; border-radius: 5px; position: absolute;\"> </div>\n",
       "        <div style=\"margin-left: 48px;\">\n",
       "            <h3 style=\"margin-bottom: 0px;\">Scheduler</h3>\n",
       "            <p style=\"color: #9D9D9D; margin-bottom: 0px;\">Scheduler-4b259d15-b413-4928-803b-af4fbd5e2489</p>\n",
       "            <table style=\"width: 100%; text-align: left;\">\n",
       "                <tr>\n",
       "                    <td style=\"text-align: left;\">\n",
       "                        <strong>Comm:</strong> tcp://127.0.0.1:64716\n",
       "                    </td>\n",
       "                    <td style=\"text-align: left;\">\n",
       "                        <strong>Workers:</strong> 4\n",
       "                    </td>\n",
       "                </tr>\n",
       "                <tr>\n",
       "                    <td style=\"text-align: left;\">\n",
       "                        <strong>Dashboard:</strong> <a href=\"http://127.0.0.1:8787/status\" target=\"_blank\">http://127.0.0.1:8787/status</a>\n",
       "                    </td>\n",
       "                    <td style=\"text-align: left;\">\n",
       "                        <strong>Total threads:</strong> 4\n",
       "                    </td>\n",
       "                </tr>\n",
       "                <tr>\n",
       "                    <td style=\"text-align: left;\">\n",
       "                        <strong>Started:</strong> Just now\n",
       "                    </td>\n",
       "                    <td style=\"text-align: left;\">\n",
       "                        <strong>Total memory:</strong> 15.87 GiB\n",
       "                    </td>\n",
       "                </tr>\n",
       "            </table>\n",
       "        </div>\n",
       "    </div>\n",
       "\n",
       "    <details style=\"margin-left: 48px;\">\n",
       "        <summary style=\"margin-bottom: 20px;\">\n",
       "            <h3 style=\"display: inline;\">Workers</h3>\n",
       "        </summary>\n",
       "\n",
       "        \n",
       "        <div style=\"margin-bottom: 20px;\">\n",
       "            <div style=\"width: 24px; height: 24px; background-color: #DBF5FF; border: 3px solid #4CC9FF; border-radius: 5px; position: absolute;\"> </div>\n",
       "            <div style=\"margin-left: 48px;\">\n",
       "            <details>\n",
       "                <summary>\n",
       "                    <h4 style=\"margin-bottom: 0px; display: inline;\">Worker: 0</h4>\n",
       "                </summary>\n",
       "                <table style=\"width: 100%; text-align: left;\">\n",
       "                    <tr>\n",
       "                        <td style=\"text-align: left;\">\n",
       "                            <strong>Comm: </strong> tcp://127.0.0.1:64737\n",
       "                        </td>\n",
       "                        <td style=\"text-align: left;\">\n",
       "                            <strong>Total threads: </strong> 1\n",
       "                        </td>\n",
       "                    </tr>\n",
       "                    <tr>\n",
       "                        <td style=\"text-align: left;\">\n",
       "                            <strong>Dashboard: </strong> <a href=\"http://127.0.0.1:64740/status\" target=\"_blank\">http://127.0.0.1:64740/status</a>\n",
       "                        </td>\n",
       "                        <td style=\"text-align: left;\">\n",
       "                            <strong>Memory: </strong> 3.97 GiB\n",
       "                        </td>\n",
       "                    </tr>\n",
       "                    <tr>\n",
       "                        <td style=\"text-align: left;\">\n",
       "                            <strong>Nanny: </strong> tcp://127.0.0.1:64719\n",
       "                        </td>\n",
       "                        <td style=\"text-align: left;\"></td>\n",
       "                    </tr>\n",
       "                    <tr>\n",
       "                        <td colspan=\"2\" style=\"text-align: left;\">\n",
       "                            <strong>Local directory: </strong> C:\\Users\\BEGAS_15\\AppData\\Local\\Temp\\dask-scratch-space\\worker-tbmp3hti\n",
       "                        </td>\n",
       "                    </tr>\n",
       "\n",
       "                    \n",
       "\n",
       "                    \n",
       "\n",
       "                </table>\n",
       "            </details>\n",
       "            </div>\n",
       "        </div>\n",
       "        \n",
       "        <div style=\"margin-bottom: 20px;\">\n",
       "            <div style=\"width: 24px; height: 24px; background-color: #DBF5FF; border: 3px solid #4CC9FF; border-radius: 5px; position: absolute;\"> </div>\n",
       "            <div style=\"margin-left: 48px;\">\n",
       "            <details>\n",
       "                <summary>\n",
       "                    <h4 style=\"margin-bottom: 0px; display: inline;\">Worker: 1</h4>\n",
       "                </summary>\n",
       "                <table style=\"width: 100%; text-align: left;\">\n",
       "                    <tr>\n",
       "                        <td style=\"text-align: left;\">\n",
       "                            <strong>Comm: </strong> tcp://127.0.0.1:64744\n",
       "                        </td>\n",
       "                        <td style=\"text-align: left;\">\n",
       "                            <strong>Total threads: </strong> 1\n",
       "                        </td>\n",
       "                    </tr>\n",
       "                    <tr>\n",
       "                        <td style=\"text-align: left;\">\n",
       "                            <strong>Dashboard: </strong> <a href=\"http://127.0.0.1:64745/status\" target=\"_blank\">http://127.0.0.1:64745/status</a>\n",
       "                        </td>\n",
       "                        <td style=\"text-align: left;\">\n",
       "                            <strong>Memory: </strong> 3.97 GiB\n",
       "                        </td>\n",
       "                    </tr>\n",
       "                    <tr>\n",
       "                        <td style=\"text-align: left;\">\n",
       "                            <strong>Nanny: </strong> tcp://127.0.0.1:64720\n",
       "                        </td>\n",
       "                        <td style=\"text-align: left;\"></td>\n",
       "                    </tr>\n",
       "                    <tr>\n",
       "                        <td colspan=\"2\" style=\"text-align: left;\">\n",
       "                            <strong>Local directory: </strong> C:\\Users\\BEGAS_15\\AppData\\Local\\Temp\\dask-scratch-space\\worker-hvgabzpp\n",
       "                        </td>\n",
       "                    </tr>\n",
       "\n",
       "                    \n",
       "\n",
       "                    \n",
       "\n",
       "                </table>\n",
       "            </details>\n",
       "            </div>\n",
       "        </div>\n",
       "        \n",
       "        <div style=\"margin-bottom: 20px;\">\n",
       "            <div style=\"width: 24px; height: 24px; background-color: #DBF5FF; border: 3px solid #4CC9FF; border-radius: 5px; position: absolute;\"> </div>\n",
       "            <div style=\"margin-left: 48px;\">\n",
       "            <details>\n",
       "                <summary>\n",
       "                    <h4 style=\"margin-bottom: 0px; display: inline;\">Worker: 2</h4>\n",
       "                </summary>\n",
       "                <table style=\"width: 100%; text-align: left;\">\n",
       "                    <tr>\n",
       "                        <td style=\"text-align: left;\">\n",
       "                            <strong>Comm: </strong> tcp://127.0.0.1:64735\n",
       "                        </td>\n",
       "                        <td style=\"text-align: left;\">\n",
       "                            <strong>Total threads: </strong> 1\n",
       "                        </td>\n",
       "                    </tr>\n",
       "                    <tr>\n",
       "                        <td style=\"text-align: left;\">\n",
       "                            <strong>Dashboard: </strong> <a href=\"http://127.0.0.1:64738/status\" target=\"_blank\">http://127.0.0.1:64738/status</a>\n",
       "                        </td>\n",
       "                        <td style=\"text-align: left;\">\n",
       "                            <strong>Memory: </strong> 3.97 GiB\n",
       "                        </td>\n",
       "                    </tr>\n",
       "                    <tr>\n",
       "                        <td style=\"text-align: left;\">\n",
       "                            <strong>Nanny: </strong> tcp://127.0.0.1:64721\n",
       "                        </td>\n",
       "                        <td style=\"text-align: left;\"></td>\n",
       "                    </tr>\n",
       "                    <tr>\n",
       "                        <td colspan=\"2\" style=\"text-align: left;\">\n",
       "                            <strong>Local directory: </strong> C:\\Users\\BEGAS_15\\AppData\\Local\\Temp\\dask-scratch-space\\worker-i8g39g5g\n",
       "                        </td>\n",
       "                    </tr>\n",
       "\n",
       "                    \n",
       "\n",
       "                    \n",
       "\n",
       "                </table>\n",
       "            </details>\n",
       "            </div>\n",
       "        </div>\n",
       "        \n",
       "        <div style=\"margin-bottom: 20px;\">\n",
       "            <div style=\"width: 24px; height: 24px; background-color: #DBF5FF; border: 3px solid #4CC9FF; border-radius: 5px; position: absolute;\"> </div>\n",
       "            <div style=\"margin-left: 48px;\">\n",
       "            <details>\n",
       "                <summary>\n",
       "                    <h4 style=\"margin-bottom: 0px; display: inline;\">Worker: 3</h4>\n",
       "                </summary>\n",
       "                <table style=\"width: 100%; text-align: left;\">\n",
       "                    <tr>\n",
       "                        <td style=\"text-align: left;\">\n",
       "                            <strong>Comm: </strong> tcp://127.0.0.1:64736\n",
       "                        </td>\n",
       "                        <td style=\"text-align: left;\">\n",
       "                            <strong>Total threads: </strong> 1\n",
       "                        </td>\n",
       "                    </tr>\n",
       "                    <tr>\n",
       "                        <td style=\"text-align: left;\">\n",
       "                            <strong>Dashboard: </strong> <a href=\"http://127.0.0.1:64742/status\" target=\"_blank\">http://127.0.0.1:64742/status</a>\n",
       "                        </td>\n",
       "                        <td style=\"text-align: left;\">\n",
       "                            <strong>Memory: </strong> 3.97 GiB\n",
       "                        </td>\n",
       "                    </tr>\n",
       "                    <tr>\n",
       "                        <td style=\"text-align: left;\">\n",
       "                            <strong>Nanny: </strong> tcp://127.0.0.1:64722\n",
       "                        </td>\n",
       "                        <td style=\"text-align: left;\"></td>\n",
       "                    </tr>\n",
       "                    <tr>\n",
       "                        <td colspan=\"2\" style=\"text-align: left;\">\n",
       "                            <strong>Local directory: </strong> C:\\Users\\BEGAS_15\\AppData\\Local\\Temp\\dask-scratch-space\\worker-up8_kgfo\n",
       "                        </td>\n",
       "                    </tr>\n",
       "\n",
       "                    \n",
       "\n",
       "                    \n",
       "\n",
       "                </table>\n",
       "            </details>\n",
       "            </div>\n",
       "        </div>\n",
       "        \n",
       "\n",
       "    </details>\n",
       "</div>\n",
       "\n",
       "        </details>\n",
       "    </div>\n",
       "</div>\n",
       "            </details>\n",
       "        \n",
       "\n",
       "    </div>\n",
       "</div>"
      ],
      "text/plain": [
       "<Client: 'tcp://127.0.0.1:64716' processes=4 threads=4, memory=15.87 GiB>"
      ]
     },
     "execution_count": 1,
     "metadata": {},
     "output_type": "execute_result"
    }
   ],
   "source": [
    "from dask.distributed import Client\n",
    "\n",
    "client = Client(n_workers=4, threads_per_worker=1)\n",
    "client"
   ]
  },
  {
   "cell_type": "markdown",
   "id": "0ce8b938-d351-406e-816e-079c8acad6ed",
   "metadata": {},
   "source": [
    "---"
   ]
  },
  {
   "cell_type": "markdown",
   "id": "1a5c8a67-51e1-4d09-967a-c16da83daa9e",
   "metadata": {},
   "source": [
    "# JSON 데이터 읽기"
   ]
  },
  {
   "cell_type": "markdown",
   "id": "eedec631-68d3-48ad-b164-2a42bcbb14cd",
   "metadata": {},
   "source": [
    "&emsp;먼저, 여기에서 사용할 데이터셋을 만들기 위해 아래 코드와 같이 임의의 레코드 데이터셋을 생성하고, 여러 개의 JSON 파일에 저장합니다.  "
   ]
  },
  {
   "cell_type": "code",
   "execution_count": 2,
   "id": "6b39bc59-247d-498e-bf49-8e8ccfd97c17",
   "metadata": {},
   "outputs": [
    {
     "data": {
      "text/plain": [
       "['C:/Users/BEGAS_15/PycharmProjects/test_dask/src/data/0.json',\n",
       " 'C:/Users/BEGAS_15/PycharmProjects/test_dask/src/data/1.json',\n",
       " 'C:/Users/BEGAS_15/PycharmProjects/test_dask/src/data/2.json',\n",
       " 'C:/Users/BEGAS_15/PycharmProjects/test_dask/src/data/3.json',\n",
       " 'C:/Users/BEGAS_15/PycharmProjects/test_dask/src/data/4.json',\n",
       " 'C:/Users/BEGAS_15/PycharmProjects/test_dask/src/data/5.json',\n",
       " 'C:/Users/BEGAS_15/PycharmProjects/test_dask/src/data/6.json',\n",
       " 'C:/Users/BEGAS_15/PycharmProjects/test_dask/src/data/7.json',\n",
       " 'C:/Users/BEGAS_15/PycharmProjects/test_dask/src/data/8.json',\n",
       " 'C:/Users/BEGAS_15/PycharmProjects/test_dask/src/data/9.json']"
      ]
     },
     "execution_count": 2,
     "metadata": {},
     "output_type": "execute_result"
    }
   ],
   "source": [
    "import dask\n",
    "import json\n",
    "import os\n",
    "\n",
    "os.makedirs('data', exist_ok=True)              # data 디렉토리 생성\n",
    "\n",
    "b = dask.datasets.make_people()                 # dask.datasets에서 제공하는 make_people 데이터셋 사용\n",
    "b.map(json.dumps).to_textfiles('data/*.json')   # JSON 파일로 저장"
   ]
  },
  {
   "cell_type": "markdown",
   "id": "6ec27116-2f9b-44bd-b266-39a05a8a012a",
   "metadata": {},
   "source": [
    "&emsp;이제 JSON 파일 형식의 데이터가 있으므로 Dask Bag과 Python JSON 모듈을 사용하여 데이터를 읽어오겠습니다.  "
   ]
  },
  {
   "cell_type": "code",
   "execution_count": 3,
   "id": "8895b0e9-0eea-4355-9ce6-f1ebf424e53f",
   "metadata": {},
   "outputs": [
    {
     "data": {
      "text/plain": [
       "dask.bag<loads, npartitions=20>"
      ]
     },
     "execution_count": 3,
     "metadata": {},
     "output_type": "execute_result"
    }
   ],
   "source": [
    "import dask.bag as db\n",
    "import json\n",
    "\n",
    "b = db.read_text('data/*.json').map(json.loads)\n",
    "b"
   ]
  },
  {
   "cell_type": "code",
   "execution_count": 4,
   "id": "6c4dfde2-afe8-4d48-b7c8-e9063e99c750",
   "metadata": {},
   "outputs": [
    {
     "data": {
      "text/plain": [
       "({'age': 18,\n",
       "  'name': ['Teodoro', 'Rose'],\n",
       "  'occupation': 'Machine Tool Fitter',\n",
       "  'telephone': '+18650301105',\n",
       "  'address': {'address': '70 Castillo Viaduct', 'city': 'Trotwood'},\n",
       "  'credit-card': {'number': '4091 8347 1660 9247',\n",
       "   'expiration-date': '04/16'}},\n",
       " {'age': 26,\n",
       "  'name': ['Pedro', 'Edwards'],\n",
       "  'occupation': 'Mill Worker',\n",
       "  'telephone': '+19311430557',\n",
       "  'address': {'address': '494 Lamartine Square', 'city': 'Berea'},\n",
       "  'credit-card': {'number': '4538 8217 4491 6273',\n",
       "   'expiration-date': '11/22'}})"
      ]
     },
     "execution_count": 4,
     "metadata": {},
     "output_type": "execute_result"
    }
   ],
   "source": [
    "b.take(2)"
   ]
  },
  {
   "cell_type": "markdown",
   "id": "841868f8-e3f8-46a7-a128-499b1ecc42a1",
   "metadata": {},
   "source": [
    "---"
   ]
  },
  {
   "cell_type": "markdown",
   "id": "f1c68c1b-7956-4fb7-9165-e267f3ec5b65",
   "metadata": {},
   "source": [
    "# Map, Filter, Aggregate"
   ]
  },
  {
   "cell_type": "markdown",
   "id": "7e157b4a-4331-45e2-aff8-16c86b56bc0d",
   "metadata": {},
   "source": [
    "&emsp;특정 레코드만 필터링하고, 데이터를 처리하기 위해 함수를 매핑(mapping)하고, 그 결과를 집계하는 순서로 데이터를 처리해보겠습니다."
   ]
  },
  {
   "cell_type": "code",
   "execution_count": 5,
   "id": "d242e6c9-2594-4972-b457-64fcec51b5b6",
   "metadata": {},
   "outputs": [
    {
     "data": {
      "text/plain": [
       "({'age': 46,\n",
       "  'name': ['Ken', 'Cobb'],\n",
       "  'occupation': 'Theatre Manager',\n",
       "  'telephone': '+12781170521',\n",
       "  'address': {'address': '1160 Dutch Windmill Access Lake', 'city': 'Denton'},\n",
       "  'credit-card': {'number': '3778 269896 73523', 'expiration-date': '09/16'}},\n",
       " {'age': 58,\n",
       "  'name': ['Vanna', 'Boyd'],\n",
       "  'occupation': 'Night Porter',\n",
       "  'telephone': '+13044000542',\n",
       "  'address': {'address': '332 Buchanan Run', 'city': 'Forest Lake'},\n",
       "  'credit-card': {'number': '4767 1366 3094 8146',\n",
       "   'expiration-date': '04/22'}})"
      ]
     },
     "execution_count": 5,
     "metadata": {},
     "output_type": "execute_result"
    }
   ],
   "source": [
    "b.filter(lambda record: record['age'] > 30).take(2)  # 나이가 30보다 큰 사람만 추출"
   ]
  },
  {
   "cell_type": "code",
   "execution_count": 6,
   "id": "22900779-f2a8-4bb2-9a38-4adcb518af30",
   "metadata": {},
   "outputs": [
    {
     "data": {
      "text/plain": [
       "('Machine Tool Fitter', 'Mill Worker')"
      ]
     },
     "execution_count": 6,
     "metadata": {},
     "output_type": "execute_result"
    }
   ],
   "source": [
    "b.map(lambda record: record['occupation']).take(2)  # 직업만 추출"
   ]
  },
  {
   "cell_type": "code",
   "execution_count": 7,
   "id": "678d7945-2e4b-4729-b7d7-26fc4aa73f4f",
   "metadata": {},
   "outputs": [
    {
     "data": {
      "text/plain": [
       "17104"
      ]
     },
     "execution_count": 7,
     "metadata": {},
     "output_type": "execute_result"
    }
   ],
   "source": [
    "b.count().compute()  # 총 레코드 개수"
   ]
  },
  {
   "cell_type": "markdown",
   "id": "e9a54443-9a4f-419b-89a5-011a6df5803a",
   "metadata": {},
   "source": [
    "&emsp;위처럼 하나의 파이프라인에서 단일 작업만 수행해도 되지만, 일반적으로 하나의 파이프라인에서 여러 작업을 수행합니다. 이 경우, 파이프라인을 구성한 후 마지막에 `compute` 또는 `take`를 호출하면 실행된 연산 결과를 얻을 수 있습니다."
   ]
  },
  {
   "cell_type": "code",
   "execution_count": 8,
   "id": "7b54b256-ec3f-4eac-8bbb-7694a73cf53c",
   "metadata": {},
   "outputs": [
    {
     "data": {
      "text/plain": [
       "dask.bag<topk-aggregate, npartitions=1>"
      ]
     },
     "execution_count": 8,
     "metadata": {},
     "output_type": "execute_result"
    }
   ],
   "source": [
    "result = (b.filter(lambda record: record['age'] > 30)\n",
    "           .map(lambda record: record['occupation'])\n",
    "           .frequencies(sort=True)\n",
    "           .topk(10, key=1))\n",
    "result"
   ]
  },
  {
   "cell_type": "code",
   "execution_count": 9,
   "id": "4640b46f-38f2-498e-8e7a-4886cbac3dee",
   "metadata": {},
   "outputs": [
    {
     "data": {
      "text/plain": [
       "[('Post Sorter', 24),\n",
       " ('Optical Advisor', 24),\n",
       " ('Historian', 24),\n",
       " ('Chandler', 24),\n",
       " ('Machine Setter', 23),\n",
       " ('Mill Operator', 22),\n",
       " ('Pipe Inspector', 22),\n",
       " ('Janitor', 21),\n",
       " ('Gallery Owner', 21),\n",
       " ('Church Officer', 21)]"
      ]
     },
     "execution_count": 9,
     "metadata": {},
     "output_type": "execute_result"
    }
   ],
   "source": [
    "result.compute()"
   ]
  },
  {
   "cell_type": "markdown",
   "id": "e44a3174-7b74-4b65-894c-c860d6b2830c",
   "metadata": {},
   "source": [
    "---"
   ]
  },
  {
   "cell_type": "markdown",
   "id": "dd05ae99-85d8-4bc0-bdc9-64d0083d6b44",
   "metadata": {},
   "source": [
    "# 변환 및 저장"
   ]
  },
  {
   "cell_type": "markdown",
   "id": "299085f7-aeb4-4534-826c-292898f47e23",
   "metadata": {},
   "source": [
    "&emsp;위처럼 분석 결과를 바로 표출할 수도 있지만, 향후 추가적인 분석을 위해 전처리한 데이터를 디스크에 저장해야 할 경우도 있습니다. 이를 위해 `to_textfiles`와 `json.dumps`와 같은 메서드를 사용하거나, Dask Dataframes로 데이터 유형을 변환할 수도 있습니다."
   ]
  },
  {
   "cell_type": "code",
   "execution_count": 10,
   "id": "06e31e91-28fa-4f64-b240-f12145eb64c2",
   "metadata": {},
   "outputs": [
    {
     "data": {
      "text/plain": [
       "['C:/Users/BEGAS_15/PycharmProjects/test_dask/src/data/processed.00.json',\n",
       " 'C:/Users/BEGAS_15/PycharmProjects/test_dask/src/data/processed.01.json',\n",
       " 'C:/Users/BEGAS_15/PycharmProjects/test_dask/src/data/processed.02.json',\n",
       " 'C:/Users/BEGAS_15/PycharmProjects/test_dask/src/data/processed.03.json',\n",
       " 'C:/Users/BEGAS_15/PycharmProjects/test_dask/src/data/processed.04.json',\n",
       " 'C:/Users/BEGAS_15/PycharmProjects/test_dask/src/data/processed.05.json',\n",
       " 'C:/Users/BEGAS_15/PycharmProjects/test_dask/src/data/processed.06.json',\n",
       " 'C:/Users/BEGAS_15/PycharmProjects/test_dask/src/data/processed.07.json',\n",
       " 'C:/Users/BEGAS_15/PycharmProjects/test_dask/src/data/processed.08.json',\n",
       " 'C:/Users/BEGAS_15/PycharmProjects/test_dask/src/data/processed.09.json',\n",
       " 'C:/Users/BEGAS_15/PycharmProjects/test_dask/src/data/processed.10.json',\n",
       " 'C:/Users/BEGAS_15/PycharmProjects/test_dask/src/data/processed.11.json',\n",
       " 'C:/Users/BEGAS_15/PycharmProjects/test_dask/src/data/processed.12.json',\n",
       " 'C:/Users/BEGAS_15/PycharmProjects/test_dask/src/data/processed.13.json',\n",
       " 'C:/Users/BEGAS_15/PycharmProjects/test_dask/src/data/processed.14.json',\n",
       " 'C:/Users/BEGAS_15/PycharmProjects/test_dask/src/data/processed.15.json',\n",
       " 'C:/Users/BEGAS_15/PycharmProjects/test_dask/src/data/processed.16.json',\n",
       " 'C:/Users/BEGAS_15/PycharmProjects/test_dask/src/data/processed.17.json',\n",
       " 'C:/Users/BEGAS_15/PycharmProjects/test_dask/src/data/processed.18.json',\n",
       " 'C:/Users/BEGAS_15/PycharmProjects/test_dask/src/data/processed.19.json']"
      ]
     },
     "execution_count": 10,
     "metadata": {},
     "output_type": "execute_result"
    }
   ],
   "source": [
    "(b.filter(lambda record: record['age'] > 30)  # 나이가 30보다 큰 레코드만 추출\n",
    "  .map(json.dumps)                            # 파이썬 객체를 텍스트로 전환\n",
    "  .to_textfiles('data/processed.*.json'))     # JSON 파일로 저장"
   ]
  },
  {
   "cell_type": "markdown",
   "id": "caa57159-de10-42f2-84b1-98d02e35f7ba",
   "metadata": {},
   "source": [
    "## Dask DataFrame으로 변환"
   ]
  },
  {
   "cell_type": "markdown",
   "id": "1548cd81-46c0-4774-bc7c-49ed75714bd4",
   "metadata": {},
   "source": [
    "&emsp;Dask Bag은 데이터를 읽고 간단한 전처리를 수행하고, 이후 복잡한 작업을 효율적으로 수행할 수 있는 Dask DataFrame과 같은 데이터 형식으로 변환하는 것이 좋습니다. Dask DataFrame은 Pandas 라이브러리의 기능을 내부적으로 사용하므로, 숫자 데이터를 처리하는 데에 훨씬 빠르고 복잡한 알고리즘 작업을 수행할 수 있습니다.  \n",
    "\n",
    "&emsp;Dask Bag을 Dask Dataframe으로 변환하기 위해서는 열(column)로 구성된 데이터가 입력되어야 합니다. 위 예시에서 사용한 중첩된(nested) JSON 데이터(이 경우, Dask Bag이 더 적합)와 같은 형식은 Dask DataFrame에서 완벽히 지원되지 않기 때문에 적당한 형식으로 데이터를 변환해줄 필요가 있습니다. 따라서, 중첩된 데이터를 flatten하는 함수를 만든 후, 레코드 전체에 매핑한 다음, 이를 Dask Dataframe으로 변환합니다."
   ]
  },
  {
   "cell_type": "code",
   "execution_count": 11,
   "id": "60941657-d896-40b5-a10c-7e13137b965b",
   "metadata": {},
   "outputs": [
    {
     "data": {
      "text/plain": [
       "({'age': 18,\n",
       "  'name': ['Teodoro', 'Rose'],\n",
       "  'occupation': 'Machine Tool Fitter',\n",
       "  'telephone': '+18650301105',\n",
       "  'address': {'address': '70 Castillo Viaduct', 'city': 'Trotwood'},\n",
       "  'credit-card': {'number': '4091 8347 1660 9247',\n",
       "   'expiration-date': '04/16'}},)"
      ]
     },
     "execution_count": 11,
     "metadata": {},
     "output_type": "execute_result"
    }
   ],
   "source": [
    "b.take(1)"
   ]
  },
  {
   "cell_type": "code",
   "execution_count": 14,
   "id": "5f12e092-495f-4c55-b166-275648affcfd",
   "metadata": {},
   "outputs": [
    {
     "data": {
      "text/plain": [
       "({'age': 18,\n",
       "  'occupation': 'Machine Tool Fitter',\n",
       "  'telephone': '+18650301105',\n",
       "  'credit-card-number': '4091 8347 1660 9247',\n",
       "  'credit-card-expiration': '04/16',\n",
       "  'name': 'Teodoro Rose',\n",
       "  'street-address': '70 Castillo Viaduct',\n",
       "  'city': 'Trotwood'},)"
      ]
     },
     "execution_count": 14,
     "metadata": {},
     "output_type": "execute_result"
    }
   ],
   "source": [
    "def flatten(record):\n",
    "    return {\n",
    "        'age': record['age'],\n",
    "        'occupation': record['occupation'],\n",
    "        'telephone': record['telephone'],\n",
    "        'credit-card-number': record['credit-card']['number'],\n",
    "        'credit-card-expiration': record['credit-card']['expiration-date'],\n",
    "        'name': ' '.join(record['name']),\n",
    "        'street-address': record['address']['address'],\n",
    "        'city': record['address']['city']\n",
    "    }\n",
    "\n",
    "flatten_b = b.map(flatten)\n",
    "flatten_b.take(1)"
   ]
  },
  {
   "cell_type": "code",
   "execution_count": 16,
   "id": "7d086a7b-229f-4dba-b57b-e6c7afe8857f",
   "metadata": {},
   "outputs": [
    {
     "data": {
      "text/html": [
       "<div>\n",
       "<style scoped>\n",
       "    .dataframe tbody tr th:only-of-type {\n",
       "        vertical-align: middle;\n",
       "    }\n",
       "\n",
       "    .dataframe tbody tr th {\n",
       "        vertical-align: top;\n",
       "    }\n",
       "\n",
       "    .dataframe thead th {\n",
       "        text-align: right;\n",
       "    }\n",
       "</style>\n",
       "<table border=\"1\" class=\"dataframe\">\n",
       "  <thead>\n",
       "    <tr style=\"text-align: right;\">\n",
       "      <th></th>\n",
       "      <th>age</th>\n",
       "      <th>occupation</th>\n",
       "      <th>telephone</th>\n",
       "      <th>credit-card-number</th>\n",
       "      <th>credit-card-expiration</th>\n",
       "      <th>name</th>\n",
       "      <th>street-address</th>\n",
       "      <th>city</th>\n",
       "    </tr>\n",
       "  </thead>\n",
       "  <tbody>\n",
       "    <tr>\n",
       "      <th>0</th>\n",
       "      <td>18</td>\n",
       "      <td>Machine Tool Fitter</td>\n",
       "      <td>+18650301105</td>\n",
       "      <td>4091 8347 1660 9247</td>\n",
       "      <td>04/16</td>\n",
       "      <td>Teodoro Rose</td>\n",
       "      <td>70 Castillo Viaduct</td>\n",
       "      <td>Trotwood</td>\n",
       "    </tr>\n",
       "    <tr>\n",
       "      <th>1</th>\n",
       "      <td>26</td>\n",
       "      <td>Mill Worker</td>\n",
       "      <td>+19311430557</td>\n",
       "      <td>4538 8217 4491 6273</td>\n",
       "      <td>11/22</td>\n",
       "      <td>Pedro Edwards</td>\n",
       "      <td>494 Lamartine Square</td>\n",
       "      <td>Berea</td>\n",
       "    </tr>\n",
       "    <tr>\n",
       "      <th>2</th>\n",
       "      <td>27</td>\n",
       "      <td>Health Nurse</td>\n",
       "      <td>+1-712-627-1654</td>\n",
       "      <td>4042 2888 2951 0224</td>\n",
       "      <td>11/20</td>\n",
       "      <td>Dacia Bailey</td>\n",
       "      <td>1300 Ord Point</td>\n",
       "      <td>Bellflower</td>\n",
       "    </tr>\n",
       "    <tr>\n",
       "      <th>3</th>\n",
       "      <td>46</td>\n",
       "      <td>Theatre Manager</td>\n",
       "      <td>+12781170521</td>\n",
       "      <td>3778 269896 73523</td>\n",
       "      <td>09/16</td>\n",
       "      <td>Ken Cobb</td>\n",
       "      <td>1160 Dutch Windmill Access Lake</td>\n",
       "      <td>Denton</td>\n",
       "    </tr>\n",
       "    <tr>\n",
       "      <th>4</th>\n",
       "      <td>28</td>\n",
       "      <td>Refractory Engineer</td>\n",
       "      <td>+1-602-714-4682</td>\n",
       "      <td>2291 8169 3723 1747</td>\n",
       "      <td>07/19</td>\n",
       "      <td>Randal Foreman</td>\n",
       "      <td>63 Battery East Turnpike</td>\n",
       "      <td>Naples</td>\n",
       "    </tr>\n",
       "  </tbody>\n",
       "</table>\n",
       "</div>"
      ],
      "text/plain": [
       "   age           occupation        telephone   credit-card-number  \\\n",
       "0   18  Machine Tool Fitter     +18650301105  4091 8347 1660 9247   \n",
       "1   26          Mill Worker     +19311430557  4538 8217 4491 6273   \n",
       "2   27         Health Nurse  +1-712-627-1654  4042 2888 2951 0224   \n",
       "3   46      Theatre Manager     +12781170521    3778 269896 73523   \n",
       "4   28  Refractory Engineer  +1-602-714-4682  2291 8169 3723 1747   \n",
       "\n",
       "  credit-card-expiration            name                   street-address  \\\n",
       "0                  04/16    Teodoro Rose              70 Castillo Viaduct   \n",
       "1                  11/22   Pedro Edwards             494 Lamartine Square   \n",
       "2                  11/20    Dacia Bailey                   1300 Ord Point   \n",
       "3                  09/16        Ken Cobb  1160 Dutch Windmill Access Lake   \n",
       "4                  07/19  Randal Foreman         63 Battery East Turnpike   \n",
       "\n",
       "         city  \n",
       "0    Trotwood  \n",
       "1       Berea  \n",
       "2  Bellflower  \n",
       "3      Denton  \n",
       "4      Naples  "
      ]
     },
     "execution_count": 16,
     "metadata": {},
     "output_type": "execute_result"
    }
   ],
   "source": [
    "df = flatten_b.to_dataframe()\n",
    "df.head()"
   ]
  },
  {
   "cell_type": "markdown",
   "id": "9b963b3c-a921-4d80-afaf-8346e8187317",
   "metadata": {},
   "source": [
    "&emsp;이전과 동일한 계산을 수행합니다."
   ]
  },
  {
   "cell_type": "code",
   "execution_count": 17,
   "id": "1b960eaa-118d-440c-b6c4-0009b5c262d0",
   "metadata": {},
   "outputs": [
    {
     "data": {
      "text/plain": [
       "occupation\n",
       "Chandler            24\n",
       "Historian           24\n",
       "Optical Advisor     24\n",
       "Post Sorter         24\n",
       "Machine Setter      23\n",
       "Mill Operator       22\n",
       "Pipe Inspector      22\n",
       "Building Foreman    21\n",
       "Cafe Owner          21\n",
       "Church Officer      21\n",
       "Name: count, dtype: int64[pyarrow]"
      ]
     },
     "execution_count": 17,
     "metadata": {},
     "output_type": "execute_result"
    }
   ],
   "source": [
    "df[df.age > 30].occupation.value_counts().nlargest(10).compute()"
   ]
  },
  {
   "cell_type": "markdown",
   "id": "141cbe17-b4ff-4c8f-a9a4-676756ec1eb4",
   "metadata": {},
   "source": [
    "---"
   ]
  }
 ],
 "metadata": {
  "kernelspec": {
   "display_name": "Python 3 (ipykernel)",
   "language": "python",
   "name": "python3"
  },
  "language_info": {
   "codemirror_mode": {
    "name": "ipython",
    "version": 3
   },
   "file_extension": ".py",
   "mimetype": "text/x-python",
   "name": "python",
   "nbconvert_exporter": "python",
   "pygments_lexer": "ipython3",
   "version": "3.9.13"
  }
 },
 "nbformat": 4,
 "nbformat_minor": 5
}
