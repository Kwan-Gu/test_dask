{
 "cells": [
  {
   "cell_type": "markdown",
   "id": "439ff0d3-2c34-4cb3-acce-c94be2072d9e",
   "metadata": {},
   "source": [
    "&emsp;이번 포스팅에서는 파이썬 **Dask Bag**를 활용한 간단한 예제를 다뤄보도록 하겠습니다."
   ]
  },
  {
   "cell_type": "markdown",
   "id": "f4337628-6071-4bdb-9d48-ced9f81212f4",
   "metadata": {},
   "source": [
    "# 목차"
   ]
  },
  {
   "cell_type": "markdown",
   "id": "5697ca4d-7336-4309-84b0-084b0620ec18",
   "metadata": {},
   "source": [
    "---"
   ]
  },
  {
   "cell_type": "markdown",
   "id": "4f2974cf-4ad7-4789-bd8a-805c98a39a05",
   "metadata": {},
   "source": [
    "# Dask Bag"
   ]
  },
  {
   "cell_type": "markdown",
   "id": "9edbd4fc-c5c5-4838-b398-a12e6f19c290",
   "metadata": {},
   "source": [
    "&emsp;Dask Bag은 `map`, `filter`, `groupby`, 그 외 집계 작업처럼 파이썬 컬렉션 객체에 대해 수행할 수 있는 여러 작업들을 구현해놓았습니다. 이 작업들을 수행하기 위해 Python 반복자(iterators)를 사용하여, 적은 메모리에서도 병렬 작업을 수행합니다. 이러한 점은 병렬 버전의 Itertools 또는 PySpark RDD와 유사합니다.  \n",
    "\n",
    "&emsp;특히 로그 파일, JSON records, 사용자 정의 Python 객체에 대해 간단한 전처리를 수행하는 데에 이 Dask Bag이 사용됩니다."
   ]
  },
  {
   "cell_type": "markdown",
   "id": "75c438bb-6598-4dee-88a9-eabfe7e62190",
   "metadata": {},
   "source": [
    "---"
   ]
  },
  {
   "cell_type": "markdown",
   "id": "53afe38d-01c6-4fe6-8919-3534dcac09d3",
   "metadata": {},
   "source": [
    "# Dask 클라이언트"
   ]
  },
  {
   "cell_type": "markdown",
   "id": "82c0d3ba-42a9-492e-8ba7-ab900ba7f36a",
   "metadata": {},
   "source": [
    "&emsp;Dask 클라이언트(client)는 필요에 따라 실행해도 되고, 실행하지 않아도 됩니다. Dask 클라이언트는 연산 작업 현황에 대한 정보를 얻는데 유용한 대시보드(dashboard)를 제공합니다.\n",
    "\n",
    "&emsp;아래 코드와 같이 클라이언트를 생성하면 대시보드에 대한 링크가 표시됩니다. 이 링크를 클릭해, 작업을 실행하는 동안 다른 화면 한쪽에 대시보드를 열어 두는 것이 좋습니다. 대시보드를 작업 화면과 동시에 보는 것은 분석 및 학습을 수행할 때 매우 유용합니다."
   ]
  },
  {
   "cell_type": "code",
   "execution_count": 1,
   "id": "f1b24038-f4ca-4934-9617-a6085a841816",
   "metadata": {},
   "outputs": [
    {
     "name": "stderr",
     "output_type": "stream",
     "text": [
      "C:\\Users\\BEGAS_15\\PycharmProjects\\test_dask\\venv\\lib\\site-packages\\distributed\\node.py:182: UserWarning: Port 8787 is already in use.\n",
      "Perhaps you already have a cluster running?\n",
      "Hosting the HTTP server on port 64098 instead\n",
      "  warnings.warn(\n"
     ]
    },
    {
     "data": {
      "text/html": [
       "<div>\n",
       "    <div style=\"width: 24px; height: 24px; background-color: #e1e1e1; border: 3px solid #9D9D9D; border-radius: 5px; position: absolute;\"> </div>\n",
       "    <div style=\"margin-left: 48px;\">\n",
       "        <h3 style=\"margin-bottom: 0px;\">Client</h3>\n",
       "        <p style=\"color: #9D9D9D; margin-bottom: 0px;\">Client-67b7e9bf-3d97-11ee-bacc-002b6765fa53</p>\n",
       "        <table style=\"width: 100%; text-align: left;\">\n",
       "\n",
       "        <tr>\n",
       "        \n",
       "            <td style=\"text-align: left;\"><strong>Connection method:</strong> Cluster object</td>\n",
       "            <td style=\"text-align: left;\"><strong>Cluster type:</strong> distributed.LocalCluster</td>\n",
       "        \n",
       "        </tr>\n",
       "\n",
       "        \n",
       "            <tr>\n",
       "                <td style=\"text-align: left;\">\n",
       "                    <strong>Dashboard: </strong> <a href=\"http://127.0.0.1:64098/status\" target=\"_blank\">http://127.0.0.1:64098/status</a>\n",
       "                </td>\n",
       "                <td style=\"text-align: left;\"></td>\n",
       "            </tr>\n",
       "        \n",
       "\n",
       "        </table>\n",
       "\n",
       "        \n",
       "\n",
       "        \n",
       "            <details>\n",
       "            <summary style=\"margin-bottom: 20px;\"><h3 style=\"display: inline;\">Cluster Info</h3></summary>\n",
       "            <div class=\"jp-RenderedHTMLCommon jp-RenderedHTML jp-mod-trusted jp-OutputArea-output\">\n",
       "    <div style=\"width: 24px; height: 24px; background-color: #e1e1e1; border: 3px solid #9D9D9D; border-radius: 5px; position: absolute;\">\n",
       "    </div>\n",
       "    <div style=\"margin-left: 48px;\">\n",
       "        <h3 style=\"margin-bottom: 0px; margin-top: 0px;\">LocalCluster</h3>\n",
       "        <p style=\"color: #9D9D9D; margin-bottom: 0px;\">aaad0ba6</p>\n",
       "        <table style=\"width: 100%; text-align: left;\">\n",
       "            <tr>\n",
       "                <td style=\"text-align: left;\">\n",
       "                    <strong>Dashboard:</strong> <a href=\"http://127.0.0.1:64098/status\" target=\"_blank\">http://127.0.0.1:64098/status</a>\n",
       "                </td>\n",
       "                <td style=\"text-align: left;\">\n",
       "                    <strong>Workers:</strong> 4\n",
       "                </td>\n",
       "            </tr>\n",
       "            <tr>\n",
       "                <td style=\"text-align: left;\">\n",
       "                    <strong>Total threads:</strong> 4\n",
       "                </td>\n",
       "                <td style=\"text-align: left;\">\n",
       "                    <strong>Total memory:</strong> 15.87 GiB\n",
       "                </td>\n",
       "            </tr>\n",
       "            \n",
       "            <tr>\n",
       "    <td style=\"text-align: left;\"><strong>Status:</strong> running</td>\n",
       "    <td style=\"text-align: left;\"><strong>Using processes:</strong> True</td>\n",
       "</tr>\n",
       "\n",
       "            \n",
       "        </table>\n",
       "\n",
       "        <details>\n",
       "            <summary style=\"margin-bottom: 20px;\">\n",
       "                <h3 style=\"display: inline;\">Scheduler Info</h3>\n",
       "            </summary>\n",
       "\n",
       "            <div style=\"\">\n",
       "    <div>\n",
       "        <div style=\"width: 24px; height: 24px; background-color: #FFF7E5; border: 3px solid #FF6132; border-radius: 5px; position: absolute;\"> </div>\n",
       "        <div style=\"margin-left: 48px;\">\n",
       "            <h3 style=\"margin-bottom: 0px;\">Scheduler</h3>\n",
       "            <p style=\"color: #9D9D9D; margin-bottom: 0px;\">Scheduler-46ea9f15-bcc4-4e33-96c5-7f30aea1da95</p>\n",
       "            <table style=\"width: 100%; text-align: left;\">\n",
       "                <tr>\n",
       "                    <td style=\"text-align: left;\">\n",
       "                        <strong>Comm:</strong> tcp://127.0.0.1:64101\n",
       "                    </td>\n",
       "                    <td style=\"text-align: left;\">\n",
       "                        <strong>Workers:</strong> 4\n",
       "                    </td>\n",
       "                </tr>\n",
       "                <tr>\n",
       "                    <td style=\"text-align: left;\">\n",
       "                        <strong>Dashboard:</strong> <a href=\"http://127.0.0.1:64098/status\" target=\"_blank\">http://127.0.0.1:64098/status</a>\n",
       "                    </td>\n",
       "                    <td style=\"text-align: left;\">\n",
       "                        <strong>Total threads:</strong> 4\n",
       "                    </td>\n",
       "                </tr>\n",
       "                <tr>\n",
       "                    <td style=\"text-align: left;\">\n",
       "                        <strong>Started:</strong> Just now\n",
       "                    </td>\n",
       "                    <td style=\"text-align: left;\">\n",
       "                        <strong>Total memory:</strong> 15.87 GiB\n",
       "                    </td>\n",
       "                </tr>\n",
       "            </table>\n",
       "        </div>\n",
       "    </div>\n",
       "\n",
       "    <details style=\"margin-left: 48px;\">\n",
       "        <summary style=\"margin-bottom: 20px;\">\n",
       "            <h3 style=\"display: inline;\">Workers</h3>\n",
       "        </summary>\n",
       "\n",
       "        \n",
       "        <div style=\"margin-bottom: 20px;\">\n",
       "            <div style=\"width: 24px; height: 24px; background-color: #DBF5FF; border: 3px solid #4CC9FF; border-radius: 5px; position: absolute;\"> </div>\n",
       "            <div style=\"margin-left: 48px;\">\n",
       "            <details>\n",
       "                <summary>\n",
       "                    <h4 style=\"margin-bottom: 0px; display: inline;\">Worker: 0</h4>\n",
       "                </summary>\n",
       "                <table style=\"width: 100%; text-align: left;\">\n",
       "                    <tr>\n",
       "                        <td style=\"text-align: left;\">\n",
       "                            <strong>Comm: </strong> tcp://127.0.0.1:64127\n",
       "                        </td>\n",
       "                        <td style=\"text-align: left;\">\n",
       "                            <strong>Total threads: </strong> 1\n",
       "                        </td>\n",
       "                    </tr>\n",
       "                    <tr>\n",
       "                        <td style=\"text-align: left;\">\n",
       "                            <strong>Dashboard: </strong> <a href=\"http://127.0.0.1:64134/status\" target=\"_blank\">http://127.0.0.1:64134/status</a>\n",
       "                        </td>\n",
       "                        <td style=\"text-align: left;\">\n",
       "                            <strong>Memory: </strong> 3.97 GiB\n",
       "                        </td>\n",
       "                    </tr>\n",
       "                    <tr>\n",
       "                        <td style=\"text-align: left;\">\n",
       "                            <strong>Nanny: </strong> tcp://127.0.0.1:64104\n",
       "                        </td>\n",
       "                        <td style=\"text-align: left;\"></td>\n",
       "                    </tr>\n",
       "                    <tr>\n",
       "                        <td colspan=\"2\" style=\"text-align: left;\">\n",
       "                            <strong>Local directory: </strong> C:\\Users\\BEGAS_15\\AppData\\Local\\Temp\\dask-scratch-space\\worker-vgafxr4o\n",
       "                        </td>\n",
       "                    </tr>\n",
       "\n",
       "                    \n",
       "\n",
       "                    \n",
       "\n",
       "                </table>\n",
       "            </details>\n",
       "            </div>\n",
       "        </div>\n",
       "        \n",
       "        <div style=\"margin-bottom: 20px;\">\n",
       "            <div style=\"width: 24px; height: 24px; background-color: #DBF5FF; border: 3px solid #4CC9FF; border-radius: 5px; position: absolute;\"> </div>\n",
       "            <div style=\"margin-left: 48px;\">\n",
       "            <details>\n",
       "                <summary>\n",
       "                    <h4 style=\"margin-bottom: 0px; display: inline;\">Worker: 1</h4>\n",
       "                </summary>\n",
       "                <table style=\"width: 100%; text-align: left;\">\n",
       "                    <tr>\n",
       "                        <td style=\"text-align: left;\">\n",
       "                            <strong>Comm: </strong> tcp://127.0.0.1:64126\n",
       "                        </td>\n",
       "                        <td style=\"text-align: left;\">\n",
       "                            <strong>Total threads: </strong> 1\n",
       "                        </td>\n",
       "                    </tr>\n",
       "                    <tr>\n",
       "                        <td style=\"text-align: left;\">\n",
       "                            <strong>Dashboard: </strong> <a href=\"http://127.0.0.1:64132/status\" target=\"_blank\">http://127.0.0.1:64132/status</a>\n",
       "                        </td>\n",
       "                        <td style=\"text-align: left;\">\n",
       "                            <strong>Memory: </strong> 3.97 GiB\n",
       "                        </td>\n",
       "                    </tr>\n",
       "                    <tr>\n",
       "                        <td style=\"text-align: left;\">\n",
       "                            <strong>Nanny: </strong> tcp://127.0.0.1:64105\n",
       "                        </td>\n",
       "                        <td style=\"text-align: left;\"></td>\n",
       "                    </tr>\n",
       "                    <tr>\n",
       "                        <td colspan=\"2\" style=\"text-align: left;\">\n",
       "                            <strong>Local directory: </strong> C:\\Users\\BEGAS_15\\AppData\\Local\\Temp\\dask-scratch-space\\worker-qa6tkdnu\n",
       "                        </td>\n",
       "                    </tr>\n",
       "\n",
       "                    \n",
       "\n",
       "                    \n",
       "\n",
       "                </table>\n",
       "            </details>\n",
       "            </div>\n",
       "        </div>\n",
       "        \n",
       "        <div style=\"margin-bottom: 20px;\">\n",
       "            <div style=\"width: 24px; height: 24px; background-color: #DBF5FF; border: 3px solid #4CC9FF; border-radius: 5px; position: absolute;\"> </div>\n",
       "            <div style=\"margin-left: 48px;\">\n",
       "            <details>\n",
       "                <summary>\n",
       "                    <h4 style=\"margin-bottom: 0px; display: inline;\">Worker: 2</h4>\n",
       "                </summary>\n",
       "                <table style=\"width: 100%; text-align: left;\">\n",
       "                    <tr>\n",
       "                        <td style=\"text-align: left;\">\n",
       "                            <strong>Comm: </strong> tcp://127.0.0.1:64125\n",
       "                        </td>\n",
       "                        <td style=\"text-align: left;\">\n",
       "                            <strong>Total threads: </strong> 1\n",
       "                        </td>\n",
       "                    </tr>\n",
       "                    <tr>\n",
       "                        <td style=\"text-align: left;\">\n",
       "                            <strong>Dashboard: </strong> <a href=\"http://127.0.0.1:64130/status\" target=\"_blank\">http://127.0.0.1:64130/status</a>\n",
       "                        </td>\n",
       "                        <td style=\"text-align: left;\">\n",
       "                            <strong>Memory: </strong> 3.97 GiB\n",
       "                        </td>\n",
       "                    </tr>\n",
       "                    <tr>\n",
       "                        <td style=\"text-align: left;\">\n",
       "                            <strong>Nanny: </strong> tcp://127.0.0.1:64106\n",
       "                        </td>\n",
       "                        <td style=\"text-align: left;\"></td>\n",
       "                    </tr>\n",
       "                    <tr>\n",
       "                        <td colspan=\"2\" style=\"text-align: left;\">\n",
       "                            <strong>Local directory: </strong> C:\\Users\\BEGAS_15\\AppData\\Local\\Temp\\dask-scratch-space\\worker-tmiaomdt\n",
       "                        </td>\n",
       "                    </tr>\n",
       "\n",
       "                    \n",
       "\n",
       "                    \n",
       "\n",
       "                </table>\n",
       "            </details>\n",
       "            </div>\n",
       "        </div>\n",
       "        \n",
       "        <div style=\"margin-bottom: 20px;\">\n",
       "            <div style=\"width: 24px; height: 24px; background-color: #DBF5FF; border: 3px solid #4CC9FF; border-radius: 5px; position: absolute;\"> </div>\n",
       "            <div style=\"margin-left: 48px;\">\n",
       "            <details>\n",
       "                <summary>\n",
       "                    <h4 style=\"margin-bottom: 0px; display: inline;\">Worker: 3</h4>\n",
       "                </summary>\n",
       "                <table style=\"width: 100%; text-align: left;\">\n",
       "                    <tr>\n",
       "                        <td style=\"text-align: left;\">\n",
       "                            <strong>Comm: </strong> tcp://127.0.0.1:64123\n",
       "                        </td>\n",
       "                        <td style=\"text-align: left;\">\n",
       "                            <strong>Total threads: </strong> 1\n",
       "                        </td>\n",
       "                    </tr>\n",
       "                    <tr>\n",
       "                        <td style=\"text-align: left;\">\n",
       "                            <strong>Dashboard: </strong> <a href=\"http://127.0.0.1:64128/status\" target=\"_blank\">http://127.0.0.1:64128/status</a>\n",
       "                        </td>\n",
       "                        <td style=\"text-align: left;\">\n",
       "                            <strong>Memory: </strong> 3.97 GiB\n",
       "                        </td>\n",
       "                    </tr>\n",
       "                    <tr>\n",
       "                        <td style=\"text-align: left;\">\n",
       "                            <strong>Nanny: </strong> tcp://127.0.0.1:64107\n",
       "                        </td>\n",
       "                        <td style=\"text-align: left;\"></td>\n",
       "                    </tr>\n",
       "                    <tr>\n",
       "                        <td colspan=\"2\" style=\"text-align: left;\">\n",
       "                            <strong>Local directory: </strong> C:\\Users\\BEGAS_15\\AppData\\Local\\Temp\\dask-scratch-space\\worker-5pw300no\n",
       "                        </td>\n",
       "                    </tr>\n",
       "\n",
       "                    \n",
       "\n",
       "                    \n",
       "\n",
       "                </table>\n",
       "            </details>\n",
       "            </div>\n",
       "        </div>\n",
       "        \n",
       "\n",
       "    </details>\n",
       "</div>\n",
       "\n",
       "        </details>\n",
       "    </div>\n",
       "</div>\n",
       "            </details>\n",
       "        \n",
       "\n",
       "    </div>\n",
       "</div>"
      ],
      "text/plain": [
       "<Client: 'tcp://127.0.0.1:64101' processes=4 threads=4, memory=15.87 GiB>"
      ]
     },
     "execution_count": 1,
     "metadata": {},
     "output_type": "execute_result"
    }
   ],
   "source": [
    "from dask.distributed import Client\n",
    "\n",
    "client = Client(n_workers=4, threads_per_worker=1)\n",
    "client"
   ]
  },
  {
   "cell_type": "markdown",
   "id": "0ce8b938-d351-406e-816e-079c8acad6ed",
   "metadata": {},
   "source": [
    "---"
   ]
  },
  {
   "cell_type": "markdown",
   "id": "3e2ad05b-cbe6-4284-babb-f31abb0dd7f5",
   "metadata": {},
   "source": [
    "# 데이터셋 생성"
   ]
  },
  {
   "cell_type": "markdown",
   "id": "eedec631-68d3-48ad-b164-2a42bcbb14cd",
   "metadata": {},
   "source": [
    "&emsp;여기에서 사용할 데이터셋을 만들기 위해 아래 코드와 같이 임의의 레코드 데이터셋을 생성하고, 여러 개의 JSON 파일에 저장합니다.  "
   ]
  },
  {
   "cell_type": "code",
   "execution_count": 2,
   "id": "6b39bc59-247d-498e-bf49-8e8ccfd97c17",
   "metadata": {},
   "outputs": [
    {
     "data": {
      "text/plain": [
       "['C:/Users/BEGAS_15/PycharmProjects/test_dask/src/data/0.json',\n",
       " 'C:/Users/BEGAS_15/PycharmProjects/test_dask/src/data/1.json',\n",
       " 'C:/Users/BEGAS_15/PycharmProjects/test_dask/src/data/2.json',\n",
       " 'C:/Users/BEGAS_15/PycharmProjects/test_dask/src/data/3.json',\n",
       " 'C:/Users/BEGAS_15/PycharmProjects/test_dask/src/data/4.json',\n",
       " 'C:/Users/BEGAS_15/PycharmProjects/test_dask/src/data/5.json',\n",
       " 'C:/Users/BEGAS_15/PycharmProjects/test_dask/src/data/6.json',\n",
       " 'C:/Users/BEGAS_15/PycharmProjects/test_dask/src/data/7.json',\n",
       " 'C:/Users/BEGAS_15/PycharmProjects/test_dask/src/data/8.json',\n",
       " 'C:/Users/BEGAS_15/PycharmProjects/test_dask/src/data/9.json']"
      ]
     },
     "execution_count": 2,
     "metadata": {},
     "output_type": "execute_result"
    }
   ],
   "source": [
    "import dask\n",
    "import json\n",
    "import os\n",
    "\n",
    "os.makedirs('data', exist_ok=True)              # data 디렉토리 생성\n",
    "\n",
    "b = dask.datasets.make_people()                 # dask.datasets에서 제공하는 make_people 데이터셋 사용\n",
    "b.map(json.dumps).to_textfiles('data/*.json')   # JSON 파일로 저장"
   ]
  },
  {
   "cell_type": "markdown",
   "id": "a8421dac-2947-4006-9d0f-095993fbde46",
   "metadata": {},
   "source": [
    "---"
   ]
  },
  {
   "cell_type": "markdown",
   "id": "1a5c8a67-51e1-4d09-967a-c16da83daa9e",
   "metadata": {},
   "source": [
    "# JSON 데이터 읽기"
   ]
  },
  {
   "cell_type": "markdown",
   "id": "6ec27116-2f9b-44bd-b266-39a05a8a012a",
   "metadata": {},
   "source": [
    "&emsp;이제 JSON 파일 형식의 데이터가 있으므로 Dask Bag과 Python JSON 모듈을 사용하여 데이터를 읽어오겠습니다.  "
   ]
  },
  {
   "cell_type": "code",
   "execution_count": 4,
   "id": "8895b0e9-0eea-4355-9ce6-f1ebf424e53f",
   "metadata": {},
   "outputs": [
    {
     "data": {
      "text/plain": [
       "dask.bag<loads, npartitions=10>"
      ]
     },
     "execution_count": 4,
     "metadata": {},
     "output_type": "execute_result"
    }
   ],
   "source": [
    "import dask.bag as db\n",
    "import json\n",
    "\n",
    "b = db.read_text('data/*.json').map(json.loads)\n",
    "b"
   ]
  },
  {
   "cell_type": "code",
   "execution_count": 5,
   "id": "6c4dfde2-afe8-4d48-b7c8-e9063e99c750",
   "metadata": {},
   "outputs": [
    {
     "data": {
      "text/plain": [
       "({'age': 48,\n",
       "  'name': ['Lashaunda', 'Valenzuela'],\n",
       "  'occupation': 'Purchase Clerk',\n",
       "  'telephone': '+1-706-722-4054',\n",
       "  'address': {'address': '1049 Mesa Lane', 'city': 'Kissimmee'},\n",
       "  'credit-card': {'number': '3746 504439 67088', 'expiration-date': '09/20'}},\n",
       " {'age': 24,\n",
       "  'name': ['Antone', 'Guzman'],\n",
       "  'occupation': 'Horse Trainer',\n",
       "  'telephone': '+18644106724',\n",
       "  'address': {'address': '698 Augusta Landing', 'city': 'Fredericksburg'},\n",
       "  'credit-card': {'number': '2455 0521 7628 0268',\n",
       "   'expiration-date': '12/22'}})"
      ]
     },
     "execution_count": 5,
     "metadata": {},
     "output_type": "execute_result"
    }
   ],
   "source": [
    "b.take(2)"
   ]
  },
  {
   "cell_type": "markdown",
   "id": "841868f8-e3f8-46a7-a128-499b1ecc42a1",
   "metadata": {},
   "source": [
    "---"
   ]
  },
  {
   "cell_type": "markdown",
   "id": "f1c68c1b-7956-4fb7-9165-e267f3ec5b65",
   "metadata": {},
   "source": [
    "# Map, Filter, Aggregate"
   ]
  },
  {
   "cell_type": "markdown",
   "id": "7e157b4a-4331-45e2-aff8-16c86b56bc0d",
   "metadata": {},
   "source": [
    "&emsp;특정 레코드만 필터링하고, 데이터를 처리하기 위해 함수를 매핑(mapping)하고, 그 결과를 집계하는 순서로 데이터를 처리해보겠습니다."
   ]
  },
  {
   "cell_type": "code",
   "execution_count": 9,
   "id": "d242e6c9-2594-4972-b457-64fcec51b5b6",
   "metadata": {},
   "outputs": [
    {
     "data": {
      "text/plain": [
       "({'age': 48,\n",
       "  'name': ['Lashaunda', 'Valenzuela'],\n",
       "  'occupation': 'Purchase Clerk',\n",
       "  'telephone': '+1-706-722-4054',\n",
       "  'address': {'address': '1049 Mesa Lane', 'city': 'Kissimmee'},\n",
       "  'credit-card': {'number': '3746 504439 67088', 'expiration-date': '09/20'}},\n",
       " {'age': 35,\n",
       "  'name': ['Emelia', 'Jacobs'],\n",
       "  'occupation': 'Tiler',\n",
       "  'telephone': '+1-678-760-1845',\n",
       "  'address': {'address': '428 Pine Shore', 'city': 'Atlantic City'},\n",
       "  'credit-card': {'number': '5334 5278 4048 0824',\n",
       "   'expiration-date': '09/22'}})"
      ]
     },
     "execution_count": 9,
     "metadata": {},
     "output_type": "execute_result"
    }
   ],
   "source": [
    "b.filter(lambda record: record['age'] > 30).take(2)  # 나이가 30보다 큰 사람만 추출"
   ]
  },
  {
   "cell_type": "code",
   "execution_count": 10,
   "id": "22900779-f2a8-4bb2-9a38-4adcb518af30",
   "metadata": {},
   "outputs": [
    {
     "data": {
      "text/plain": [
       "('Purchase Clerk', 'Horse Trainer')"
      ]
     },
     "execution_count": 10,
     "metadata": {},
     "output_type": "execute_result"
    }
   ],
   "source": [
    "b.map(lambda record: record['occupation']).take(2)  # 직업만 추출"
   ]
  },
  {
   "cell_type": "code",
   "execution_count": 11,
   "id": "678d7945-2e4b-4729-b7d7-26fc4aa73f4f",
   "metadata": {},
   "outputs": [
    {
     "data": {
      "text/plain": [
       "10000"
      ]
     },
     "execution_count": 11,
     "metadata": {},
     "output_type": "execute_result"
    }
   ],
   "source": [
    "b.count().compute()  # 총 레코드 개수"
   ]
  },
  {
   "cell_type": "markdown",
   "id": "e9a54443-9a4f-419b-89a5-011a6df5803a",
   "metadata": {},
   "source": [
    "&emsp;위처럼 하나의 파이프라인에서 단일 작업만 수행해도 되지만, 일반적으로 하나의 파이프라인에서 여러 작업을 수행합니다. 이 경우, 파이프라인을 구성한 후 마지막에 `compute` 또는 `take`를 호출하면 실행된 연산 결과를 얻을 수 있습니다."
   ]
  },
  {
   "cell_type": "code",
   "execution_count": 12,
   "id": "7b54b256-ec3f-4eac-8bbb-7694a73cf53c",
   "metadata": {},
   "outputs": [
    {
     "data": {
      "text/plain": [
       "dask.bag<topk-aggregate, npartitions=1>"
      ]
     },
     "execution_count": 12,
     "metadata": {},
     "output_type": "execute_result"
    }
   ],
   "source": [
    "result = (b.filter(lambda record: record['age'] > 30)\n",
    "           .map(lambda record: record['occupation'])\n",
    "           .frequencies(sort=True)\n",
    "           .topk(10, key=1))\n",
    "result"
   ]
  },
  {
   "cell_type": "code",
   "execution_count": 13,
   "id": "4640b46f-38f2-498e-8e7a-4886cbac3dee",
   "metadata": {},
   "outputs": [
    {
     "data": {
      "text/plain": [
       "[('Church Officer', 17),\n",
       " ('Typesetter', 15),\n",
       " ('Building Surveyor', 15),\n",
       " ('Plate Layer', 15),\n",
       " ('Accounts Assistant', 14),\n",
       " ('Locksmith', 14),\n",
       " ('Building Inspector', 14),\n",
       " ('Cafe Owner', 14),\n",
       " ('Works Manager', 13),\n",
       " ('Optical Advisor', 13)]"
      ]
     },
     "execution_count": 13,
     "metadata": {},
     "output_type": "execute_result"
    }
   ],
   "source": [
    "result.compute()"
   ]
  },
  {
   "cell_type": "markdown",
   "id": "e44a3174-7b74-4b65-894c-c860d6b2830c",
   "metadata": {},
   "source": [
    "---"
   ]
  },
  {
   "cell_type": "markdown",
   "id": "dd05ae99-85d8-4bc0-bdc9-64d0083d6b44",
   "metadata": {},
   "source": [
    "# 변환 및 저장"
   ]
  },
  {
   "cell_type": "markdown",
   "id": "299085f7-aeb4-4534-826c-292898f47e23",
   "metadata": {},
   "source": [
    "&emsp;위처럼 분석 결과를 바로 표출할 수도 있지만, 향후 추가적인 분석을 위해 전처리한 데이터를 디스크에 저장해야 할 경우도 있습니다. 이를 위해 `to_textfiles`와 `json.dumps`와 같은 메서드를 사용하거나, Dask Dataframes로 데이터 유형을 변환할 수도 있습니다."
   ]
  },
  {
   "cell_type": "code",
   "execution_count": 14,
   "id": "06e31e91-28fa-4f64-b240-f12145eb64c2",
   "metadata": {},
   "outputs": [
    {
     "data": {
      "text/plain": [
       "['C:/Users/BEGAS_15/PycharmProjects/test_dask/src/data/processed.0.json',\n",
       " 'C:/Users/BEGAS_15/PycharmProjects/test_dask/src/data/processed.1.json',\n",
       " 'C:/Users/BEGAS_15/PycharmProjects/test_dask/src/data/processed.2.json',\n",
       " 'C:/Users/BEGAS_15/PycharmProjects/test_dask/src/data/processed.3.json',\n",
       " 'C:/Users/BEGAS_15/PycharmProjects/test_dask/src/data/processed.4.json',\n",
       " 'C:/Users/BEGAS_15/PycharmProjects/test_dask/src/data/processed.5.json',\n",
       " 'C:/Users/BEGAS_15/PycharmProjects/test_dask/src/data/processed.6.json',\n",
       " 'C:/Users/BEGAS_15/PycharmProjects/test_dask/src/data/processed.7.json',\n",
       " 'C:/Users/BEGAS_15/PycharmProjects/test_dask/src/data/processed.8.json',\n",
       " 'C:/Users/BEGAS_15/PycharmProjects/test_dask/src/data/processed.9.json']"
      ]
     },
     "execution_count": 14,
     "metadata": {},
     "output_type": "execute_result"
    }
   ],
   "source": [
    "(b.filter(lambda record: record['age'] > 30)  # 나이가 30보다 큰 레코드만 추출\n",
    "  .map(json.dumps)                            # 파이썬 객체를 텍스트로 전환\n",
    "  .to_textfiles('data/processed.*.json'))     # JSON 파일로 저장"
   ]
  },
  {
   "cell_type": "markdown",
   "id": "caa57159-de10-42f2-84b1-98d02e35f7ba",
   "metadata": {},
   "source": [
    "## Dask DataFrame으로 변환"
   ]
  },
  {
   "cell_type": "markdown",
   "id": "1548cd81-46c0-4774-bc7c-49ed75714bd4",
   "metadata": {},
   "source": [
    "&emsp;Dask Bag은 데이터를 읽고, 간단한 전처리를 수행하고, 이후 Dask Dataframes처럼 더 효율적인 데이터 형식으로 변환하는 데 적합합니다. Dask Dataframes는 Pandas 라이브러리의 기능들을 내부적으로 사용하므로, 숫자 데이터를 처리하는 데에 훨씬 빠르고 복잡한 알고리즘 작업을 수행할 수 있습니다."
   ]
  },
  {
   "cell_type": "code",
   "execution_count": null,
   "id": "60941657-d896-40b5-a10c-7e13137b965b",
   "metadata": {},
   "outputs": [],
   "source": []
  }
 ],
 "metadata": {
  "kernelspec": {
   "display_name": "Python 3 (ipykernel)",
   "language": "python",
   "name": "python3"
  },
  "language_info": {
   "codemirror_mode": {
    "name": "ipython",
    "version": 3
   },
   "file_extension": ".py",
   "mimetype": "text/x-python",
   "name": "python",
   "nbconvert_exporter": "python",
   "pygments_lexer": "ipython3",
   "version": "3.9.13"
  }
 },
 "nbformat": 4,
 "nbformat_minor": 5
}
